{
 "cells": [
  {
   "cell_type": "markdown",
   "id": "f95a8dd2",
   "metadata": {
    "papermill": {
     "duration": 0.007052,
     "end_time": "2023-10-21T13:44:30.100933",
     "exception": false,
     "start_time": "2023-10-21T13:44:30.093881",
     "status": "completed"
    },
    "tags": []
   },
   "source": [
    "# Predict the grade of a student based on the study hours."
   ]
  },
  {
   "cell_type": "markdown",
   "id": "0e921fc5",
   "metadata": {
    "papermill": {
     "duration": 0.00467,
     "end_time": "2023-10-21T13:44:30.110696",
     "exception": false,
     "start_time": "2023-10-21T13:44:30.106026",
     "status": "completed"
    },
    "tags": []
   },
   "source": [
    "## Import libraries"
   ]
  },
  {
   "cell_type": "code",
   "execution_count": 1,
   "id": "3dd0b9b6",
   "metadata": {
    "execution": {
     "iopub.execute_input": "2023-10-21T13:44:30.122567Z",
     "iopub.status.busy": "2023-10-21T13:44:30.122120Z",
     "iopub.status.idle": "2023-10-21T13:44:32.288080Z",
     "shell.execute_reply": "2023-10-21T13:44:32.287104Z"
    },
    "papermill": {
     "duration": 2.174951,
     "end_time": "2023-10-21T13:44:32.290645",
     "exception": false,
     "start_time": "2023-10-21T13:44:30.115694",
     "status": "completed"
    },
    "tags": []
   },
   "outputs": [],
   "source": [
    "import pandas as pd\n",
    "import numpy as np\n",
    "from sklearn.linear_model import LinearRegression\n",
    "from sklearn.model_selection import train_test_split\n",
    "from sklearn.metrics import mean_absolute_error, mean_squared_error, r2_score\n",
    "import matplotlib.pyplot as plt\n",
    "import seaborn as sns\n",
    "# import warnings\n",
    "# warnings.filterwarnings('ignore')"
   ]
  },
  {
   "cell_type": "markdown",
   "id": "a60f650c",
   "metadata": {
    "papermill": {
     "duration": 0.004725,
     "end_time": "2023-10-21T13:44:32.300375",
     "exception": false,
     "start_time": "2023-10-21T13:44:32.295650",
     "status": "completed"
    },
    "tags": []
   },
   "source": [
    "## Read the data"
   ]
  },
  {
   "cell_type": "code",
   "execution_count": 2,
   "id": "59df7ce3",
   "metadata": {
    "execution": {
     "iopub.execute_input": "2023-10-21T13:44:32.311656Z",
     "iopub.status.busy": "2023-10-21T13:44:32.311141Z",
     "iopub.status.idle": "2023-10-21T13:44:32.338987Z",
     "shell.execute_reply": "2023-10-21T13:44:32.338119Z"
    },
    "papermill": {
     "duration": 0.036275,
     "end_time": "2023-10-21T13:44:32.341410",
     "exception": false,
     "start_time": "2023-10-21T13:44:32.305135",
     "status": "completed"
    },
    "tags": []
   },
   "outputs": [],
   "source": [
    "# Read the dataset from a CSV file into a pandas DataFrame\n",
    "data = pd.read_csv('score_updated.csv')"
   ]
  },
  {
   "cell_type": "code",
   "execution_count": 3,
   "id": "cbc42708",
   "metadata": {
    "execution": {
     "iopub.execute_input": "2023-10-21T13:44:32.353247Z",
     "iopub.status.busy": "2023-10-21T13:44:32.352852Z",
     "iopub.status.idle": "2023-10-21T13:44:32.372057Z",
     "shell.execute_reply": "2023-10-21T13:44:32.371350Z"
    },
    "papermill": {
     "duration": 0.027613,
     "end_time": "2023-10-21T13:44:32.374050",
     "exception": false,
     "start_time": "2023-10-21T13:44:32.346437",
     "status": "completed"
    },
    "tags": []
   },
   "outputs": [
    {
     "data": {
      "text/html": [
       "<div>\n",
       "<style scoped>\n",
       "    .dataframe tbody tr th:only-of-type {\n",
       "        vertical-align: middle;\n",
       "    }\n",
       "\n",
       "    .dataframe tbody tr th {\n",
       "        vertical-align: top;\n",
       "    }\n",
       "\n",
       "    .dataframe thead th {\n",
       "        text-align: right;\n",
       "    }\n",
       "</style>\n",
       "<table border=\"1\" class=\"dataframe\">\n",
       "  <thead>\n",
       "    <tr style=\"text-align: right;\">\n",
       "      <th></th>\n",
       "      <th>Hours</th>\n",
       "      <th>Scores</th>\n",
       "    </tr>\n",
       "  </thead>\n",
       "  <tbody>\n",
       "    <tr>\n",
       "      <th>0</th>\n",
       "      <td>2.5</td>\n",
       "      <td>21</td>\n",
       "    </tr>\n",
       "    <tr>\n",
       "      <th>1</th>\n",
       "      <td>5.1</td>\n",
       "      <td>47</td>\n",
       "    </tr>\n",
       "    <tr>\n",
       "      <th>2</th>\n",
       "      <td>3.2</td>\n",
       "      <td>27</td>\n",
       "    </tr>\n",
       "    <tr>\n",
       "      <th>3</th>\n",
       "      <td>8.5</td>\n",
       "      <td>75</td>\n",
       "    </tr>\n",
       "    <tr>\n",
       "      <th>4</th>\n",
       "      <td>3.5</td>\n",
       "      <td>30</td>\n",
       "    </tr>\n",
       "  </tbody>\n",
       "</table>\n",
       "</div>"
      ],
      "text/plain": [
       "   Hours  Scores\n",
       "0    2.5      21\n",
       "1    5.1      47\n",
       "2    3.2      27\n",
       "3    8.5      75\n",
       "4    3.5      30"
      ]
     },
     "execution_count": 3,
     "metadata": {},
     "output_type": "execute_result"
    }
   ],
   "source": [
    "# Display the first few rows of the dataset\n",
    "data.head()"
   ]
  },
  {
   "cell_type": "code",
   "execution_count": 4,
   "id": "58a8594e",
   "metadata": {
    "execution": {
     "iopub.execute_input": "2023-10-21T13:44:32.386459Z",
     "iopub.status.busy": "2023-10-21T13:44:32.385580Z",
     "iopub.status.idle": "2023-10-21T13:44:32.403918Z",
     "shell.execute_reply": "2023-10-21T13:44:32.402817Z"
    },
    "papermill": {
     "duration": 0.026629,
     "end_time": "2023-10-21T13:44:32.405998",
     "exception": false,
     "start_time": "2023-10-21T13:44:32.379369",
     "status": "completed"
    },
    "tags": []
   },
   "outputs": [
    {
     "data": {
      "text/html": [
       "<div>\n",
       "<style scoped>\n",
       "    .dataframe tbody tr th:only-of-type {\n",
       "        vertical-align: middle;\n",
       "    }\n",
       "\n",
       "    .dataframe tbody tr th {\n",
       "        vertical-align: top;\n",
       "    }\n",
       "\n",
       "    .dataframe thead th {\n",
       "        text-align: right;\n",
       "    }\n",
       "</style>\n",
       "<table border=\"1\" class=\"dataframe\">\n",
       "  <thead>\n",
       "    <tr style=\"text-align: right;\">\n",
       "      <th></th>\n",
       "      <th>Hours</th>\n",
       "      <th>Scores</th>\n",
       "    </tr>\n",
       "  </thead>\n",
       "  <tbody>\n",
       "    <tr>\n",
       "      <th>count</th>\n",
       "      <td>96.000000</td>\n",
       "      <td>96.000000</td>\n",
       "    </tr>\n",
       "    <tr>\n",
       "      <th>mean</th>\n",
       "      <td>5.267708</td>\n",
       "      <td>54.020833</td>\n",
       "    </tr>\n",
       "    <tr>\n",
       "      <th>std</th>\n",
       "      <td>2.503030</td>\n",
       "      <td>25.017459</td>\n",
       "    </tr>\n",
       "    <tr>\n",
       "      <th>min</th>\n",
       "      <td>1.000000</td>\n",
       "      <td>12.000000</td>\n",
       "    </tr>\n",
       "    <tr>\n",
       "      <th>25%</th>\n",
       "      <td>3.075000</td>\n",
       "      <td>30.750000</td>\n",
       "    </tr>\n",
       "    <tr>\n",
       "      <th>50%</th>\n",
       "      <td>5.250000</td>\n",
       "      <td>54.500000</td>\n",
       "    </tr>\n",
       "    <tr>\n",
       "      <th>75%</th>\n",
       "      <td>7.325000</td>\n",
       "      <td>74.250000</td>\n",
       "    </tr>\n",
       "    <tr>\n",
       "      <th>max</th>\n",
       "      <td>9.800000</td>\n",
       "      <td>99.000000</td>\n",
       "    </tr>\n",
       "  </tbody>\n",
       "</table>\n",
       "</div>"
      ],
      "text/plain": [
       "           Hours     Scores\n",
       "count  96.000000  96.000000\n",
       "mean    5.267708  54.020833\n",
       "std     2.503030  25.017459\n",
       "min     1.000000  12.000000\n",
       "25%     3.075000  30.750000\n",
       "50%     5.250000  54.500000\n",
       "75%     7.325000  74.250000\n",
       "max     9.800000  99.000000"
      ]
     },
     "execution_count": 4,
     "metadata": {},
     "output_type": "execute_result"
    }
   ],
   "source": [
    "# Generate statistics of the dataset\n",
    "data.describe()"
   ]
  },
  {
   "cell_type": "code",
   "execution_count": 5,
   "id": "f7c0430a",
   "metadata": {
    "execution": {
     "iopub.execute_input": "2023-10-21T13:44:32.418455Z",
     "iopub.status.busy": "2023-10-21T13:44:32.417786Z",
     "iopub.status.idle": "2023-10-21T13:44:32.429170Z",
     "shell.execute_reply": "2023-10-21T13:44:32.428116Z"
    },
    "papermill": {
     "duration": 0.019664,
     "end_time": "2023-10-21T13:44:32.431121",
     "exception": false,
     "start_time": "2023-10-21T13:44:32.411457",
     "status": "completed"
    },
    "tags": []
   },
   "outputs": [],
   "source": [
    "# Prepare the data\n",
    "X = data.drop(columns=['Scores'], axis=1)  # X contains the feature columns, excluding 'Scores'\n",
    "y = data.drop(columns=['Hours'], axis=1)   # y contains the target variable 'Scores', excluding 'Hours'"
   ]
  },
  {
   "cell_type": "code",
   "execution_count": 6,
   "id": "866e8b4c",
   "metadata": {
    "execution": {
     "iopub.execute_input": "2023-10-21T13:44:32.443760Z",
     "iopub.status.busy": "2023-10-21T13:44:32.443113Z",
     "iopub.status.idle": "2023-10-21T13:44:32.873212Z",
     "shell.execute_reply": "2023-10-21T13:44:32.872149Z"
    },
    "papermill": {
     "duration": 0.439204,
     "end_time": "2023-10-21T13:44:32.875791",
     "exception": false,
     "start_time": "2023-10-21T13:44:32.436587",
     "status": "completed"
    },
    "tags": []
   },
   "outputs": [
    {
     "data": {
      "text/plain": [
       "Text(0.5, 1.0, 'Plot of Number of Study Hours vs. Marks of the Student')"
      ]
     },
     "execution_count": 6,
     "metadata": {},
     "output_type": "execute_result"
    },
    {
     "data": {
      "image/png": "[encoded data removed]",
      "text/plain": [
       "<Figure size 1200x600 with 1 Axes>"
      ]
     },
     "metadata": {},
     "output_type": "display_data"
    }
   ],
   "source": [
    "# Create a scatterplot to visualize the relationship between study hours and student marks\n",
    "plt.figure(figsize=(12, 6))                 # Set the figure size\n",
    "sns.set_style(\"dark\")                       # Set the plot style using Seaborn\n",
    "sns.scatterplot(x=data['Hours'], y=data['Scores'])  # Create the scatterplot\n",
    "plt.xlabel(\"Number of Study Hours\")         # Set the x-axis label\n",
    "plt.ylabel(\"Marks of the Student\")          # Set the y-axis label\n",
    "plt.title(\"Plot of Number of Study Hours vs. Marks of the Student\")  # Set the title"
   ]
  },
  {
   "cell_type": "markdown",
   "id": "dcaf6e9e",
   "metadata": {
    "papermill": {
     "duration": 0.005717,
     "end_time": "2023-10-21T13:44:32.887530",
     "exception": false,
     "start_time": "2023-10-21T13:44:32.881813",
     "status": "completed"
    },
    "tags": []
   },
   "source": [
    "# Splitting the data"
   ]
  },
  {
   "cell_type": "code",
   "execution_count": 7,
   "id": "8baaebdb",
   "metadata": {
    "execution": {
     "iopub.execute_input": "2023-10-21T13:44:32.900981Z",
     "iopub.status.busy": "2023-10-21T13:44:32.900611Z",
     "iopub.status.idle": "2023-10-21T13:44:32.907360Z",
     "shell.execute_reply": "2023-10-21T13:44:32.906293Z"
    },
    "papermill": {
     "duration": 0.016073,
     "end_time": "2023-10-21T13:44:32.909456",
     "exception": false,
     "start_time": "2023-10-21T13:44:32.893383",
     "status": "completed"
    },
    "tags": []
   },
   "outputs": [],
   "source": [
    "# Split the data into training and testing sets\n",
    "X_train, X_test, y_train, y_test = train_test_split(X, y, test_size=0.2, random_state=42)"
   ]
  },
  {
   "cell_type": "markdown",
   "id": "a7c8d588",
   "metadata": {
    "papermill": {
     "duration": 0.005664,
     "end_time": "2023-10-21T13:44:32.921037",
     "exception": false,
     "start_time": "2023-10-21T13:44:32.915373",
     "status": "completed"
    },
    "tags": []
   },
   "source": [
    "# Modeling"
   ]
  },
  {
   "cell_type": "code",
   "execution_count": 8,
   "id": "f69187cf",
   "metadata": {
    "execution": {
     "iopub.execute_input": "2023-10-21T13:44:32.934494Z",
     "iopub.status.busy": "2023-10-21T13:44:32.934095Z",
     "iopub.status.idle": "2023-10-21T13:44:32.966222Z",
     "shell.execute_reply": "2023-10-21T13:44:32.965395Z"
    },
    "papermill": {
     "duration": 0.041614,
     "end_time": "2023-10-21T13:44:32.968526",
     "exception": false,
     "start_time": "2023-10-21T13:44:32.926912",
     "status": "completed"
    },
    "tags": []
   },
   "outputs": [
    {
     "data": {
      "text/html": [
       "<style>#sk-container-id-1 {color: black;background-color: white;}#sk-container-id-1 pre{padding: 0;}#sk-container-id-1 div.sk-toggleable {background-color: white;}#sk-container-id-1 label.sk-toggleable__label {cursor: pointer;display: block;width: 100%;margin-bottom: 0;padding: 0.3em;box-sizing: border-box;text-align: center;}#sk-container-id-1 label.sk-toggleable__label-arrow:before {content: \"▸\";float: left;margin-right: 0.25em;color: #696969;}#sk-container-id-1 label.sk-toggleable__label-arrow:hover:before {color: black;}#sk-container-id-1 div.sk-estimator:hover label.sk-toggleable__label-arrow:before {color: black;}#sk-container-id-1 div.sk-toggleable__content {max-height: 0;max-width: 0;overflow: hidden;text-align: left;background-color: #f0f8ff;}#sk-container-id-1 div.sk-toggleable__content pre {margin: 0.2em;color: black;border-radius: 0.25em;background-color: #f0f8ff;}#sk-container-id-1 input.sk-toggleable__control:checked~div.sk-toggleable__content {max-height: 200px;max-width: 100%;overflow: auto;}#sk-container-id-1 input.sk-toggleable__control:checked~label.sk-toggleable__label-arrow:before {content: \"▾\";}#sk-container-id-1 div.sk-estimator input.sk-toggleable__control:checked~label.sk-toggleable__label {background-color: #d4ebff;}#sk-container-id-1 div.sk-label input.sk-toggleable__control:checked~label.sk-toggleable__label {background-color: #d4ebff;}#sk-container-id-1 input.sk-hidden--visually {border: 0;clip: rect(1px 1px 1px 1px);clip: rect(1px, 1px, 1px, 1px);height: 1px;margin: -1px;overflow: hidden;padding: 0;position: absolute;width: 1px;}#sk-container-id-1 div.sk-estimator {font-family: monospace;background-color: #f0f8ff;border: 1px dotted black;border-radius: 0.25em;box-sizing: border-box;margin-bottom: 0.5em;}#sk-container-id-1 div.sk-estimator:hover {background-color: #d4ebff;}#sk-container-id-1 div.sk-parallel-item::after {content: \"\";width: 100%;border-bottom: 1px solid gray;flex-grow: 1;}#sk-container-id-1 div.sk-label:hover label.sk-toggleable__label {background-color: #d4ebff;}#sk-container-id-1 div.sk-serial::before {content: \"\";position: absolute;border-left: 1px solid gray;box-sizing: border-box;top: 0;bottom: 0;left: 50%;z-index: 0;}#sk-container-id-1 div.sk-serial {display: flex;flex-direction: column;align-items: center;background-color: white;padding-right: 0.2em;padding-left: 0.2em;position: relative;}#sk-container-id-1 div.sk-item {position: relative;z-index: 1;}#sk-container-id-1 div.sk-parallel {display: flex;align-items: stretch;justify-content: center;background-color: white;position: relative;}#sk-container-id-1 div.sk-item::before, #sk-container-id-1 div.sk-parallel-item::before {content: \"\";position: absolute;border-left: 1px solid gray;box-sizing: border-box;top: 0;bottom: 0;left: 50%;z-index: -1;}#sk-container-id-1 div.sk-parallel-item {display: flex;flex-direction: column;z-index: 1;position: relative;background-color: white;}#sk-container-id-1 div.sk-parallel-item:first-child::after {align-self: flex-end;width: 50%;}#sk-container-id-1 div.sk-parallel-item:last-child::after {align-self: flex-start;width: 50%;}#sk-container-id-1 div.sk-parallel-item:only-child::after {width: 0;}#sk-container-id-1 div.sk-dashed-wrapped {border: 1px dashed gray;margin: 0 0.4em 0.5em 0.4em;box-sizing: border-box;padding-bottom: 0.4em;background-color: white;}#sk-container-id-1 div.sk-label label {font-family: monospace;font-weight: bold;display: inline-block;line-height: 1.2em;}#sk-container-id-1 div.sk-label-container {text-align: center;}#sk-container-id-1 div.sk-container {/* jupyter's `normalize.less` sets `[hidden] { display: none; }` but bootstrap.min.css set `[hidden] { display: none !important; }` so we also need the `!important` here to be able to override the default hidden behavior on the sphinx rendered scikit-learn.org. See: https://github.com/scikit-learn/scikit-learn/issues/21755 */display: inline-block !important;position: relative;}#sk-container-id-1 div.sk-text-repr-fallback {display: none;}</style><div id=\"sk-container-id-1\" class=\"sk-top-container\"><div class=\"sk-text-repr-fallback\"><pre>LinearRegression()</pre><b>In a Jupyter environment, please rerun this cell to show the HTML representation or trust the notebook. <br />On GitHub, the HTML representation is unable to render, please try loading this page with nbviewer.org.</b></div><div class=\"sk-container\" hidden><div class=\"sk-item\"><div class=\"sk-estimator sk-toggleable\"><input class=\"sk-toggleable__control sk-hidden--visually\" id=\"sk-estimator-id-1\" type=\"checkbox\" checked><label for=\"sk-estimator-id-1\" class=\"sk-toggleable__label sk-toggleable__label-arrow\">LinearRegression</label><div class=\"sk-toggleable__content\"><pre>LinearRegression()</pre></div></div></div></div></div>"
      ],
      "text/plain": [
       "LinearRegression()"
      ]
     },
     "execution_count": 8,
     "metadata": {},
     "output_type": "execute_result"
    }
   ],
   "source": [
    "# Create a Linear Regression model and train it with the training data\n",
    "model = LinearRegression()  # Initialize a Linear Regression model\n",
    "model.fit(X_train, y_train)  # Train the model using the training data"
   ]
  },
  {
   "cell_type": "code",
   "execution_count": 9,
   "id": "1ce53890",
   "metadata": {
    "execution": {
     "iopub.execute_input": "2023-10-21T13:44:32.983546Z",
     "iopub.status.busy": "2023-10-21T13:44:32.982586Z",
     "iopub.status.idle": "2023-10-21T13:44:32.988533Z",
     "shell.execute_reply": "2023-10-21T13:44:32.987496Z"
    },
    "papermill": {
     "duration": 0.016011,
     "end_time": "2023-10-21T13:44:32.990915",
     "exception": false,
     "start_time": "2023-10-21T13:44:32.974904",
     "status": "completed"
    },
    "tags": []
   },
   "outputs": [
    {
     "name": "stdout",
     "output_type": "stream",
     "text": [
      "Coefficient of the model:  [[9.83563508]]\n",
      "Intercept of the model:  [2.44056559]\n"
     ]
    }
   ],
   "source": [
    "# Print the coefficients and intercept of the trained Linear Regression model\n",
    "print(\"Coefficient of the model: \", model.coef_)  # Print the coefficients (slopes) of the model\n",
    "print(\"Intercept of the model: \", model.intercept_)  # Print the intercept of the model"
   ]
  },
  {
   "cell_type": "code",
   "execution_count": 10,
   "id": "85ead5a1",
   "metadata": {
    "execution": {
     "iopub.execute_input": "2023-10-21T13:44:33.006009Z",
     "iopub.status.busy": "2023-10-21T13:44:33.004905Z",
     "iopub.status.idle": "2023-10-21T13:44:33.011458Z",
     "shell.execute_reply": "2023-10-21T13:44:33.010469Z"
    },
    "papermill": {
     "duration": 0.016351,
     "end_time": "2023-10-21T13:44:33.013584",
     "exception": false,
     "start_time": "2023-10-21T13:44:32.997233",
     "status": "completed"
    },
    "tags": []
   },
   "outputs": [],
   "source": [
    "# Use the trained Linear Regression model to make predictions on the training data\n",
    "y_pred = model.predict(X_train)"
   ]
  },
  {
   "cell_type": "code",
   "execution_count": 11,
   "id": "97539eb5",
   "metadata": {
    "execution": {
     "iopub.execute_input": "2023-10-21T13:44:33.028138Z",
     "iopub.status.busy": "2023-10-21T13:44:33.027443Z",
     "iopub.status.idle": "2023-10-21T13:44:33.417042Z",
     "shell.execute_reply": "2023-10-21T13:44:33.415800Z"
    },
    "papermill": {
     "duration": 0.399509,
     "end_time": "2023-10-21T13:44:33.419380",
     "exception": false,
     "start_time": "2023-10-21T13:44:33.019871",
     "status": "completed"
    },
    "tags": []
   },
   "outputs": [
    {
     "data": {
      "text/plain": [
       "Text(0.5, 1.0, 'Plot of Number of Study Hours vs. Marks of the Student')"
      ]
     },
     "execution_count": 11,
     "metadata": {},
     "output_type": "execute_result"
    },
    {
     "data": {
      "image/png": "[encoded data removed]",
      "text/plain": [
       "<Figure size 1200x600 with 1 Axes>"
      ]
     },
     "metadata": {},
     "output_type": "display_data"
    }
   ],
   "source": [
    "# Create a scatterplot of the training data points and the regression line\n",
    "plt.figure(figsize=(12, 6))             # Set the figure size\n",
    "sns.set_style(\"dark\")                   # Set the plot style using Seaborn\n",
    "plt.scatter(X_train, y_train, color='red')  # Plot the training data points in red\n",
    "plt.plot(X_train, y_pred)               # Plot the regression line using the model's predictions\n",
    "plt.xlabel(\"Number of Study Hours\")     # Set the x-axis label\n",
    "plt.ylabel(\"Marks of the Student\")      # Set the y-axis label\n",
    "plt.title(\"Plot of Number of Study Hours vs. Marks of the Student\")  # Set the title"
   ]
  },
  {
   "cell_type": "markdown",
   "id": "6b0b52e5",
   "metadata": {
    "papermill": {
     "duration": 0.006944,
     "end_time": "2023-10-21T13:44:33.433715",
     "exception": false,
     "start_time": "2023-10-21T13:44:33.426771",
     "status": "completed"
    },
    "tags": []
   },
   "source": [
    "# Evaluation"
   ]
  },
  {
   "cell_type": "code",
   "execution_count": 12,
   "id": "39d181ab",
   "metadata": {
    "execution": {
     "iopub.execute_input": "2023-10-21T13:44:33.450256Z",
     "iopub.status.busy": "2023-10-21T13:44:33.449842Z",
     "iopub.status.idle": "2023-10-21T13:44:33.455401Z",
     "shell.execute_reply": "2023-10-21T13:44:33.454576Z"
    },
    "papermill": {
     "duration": 0.016116,
     "end_time": "2023-10-21T13:44:33.457467",
     "exception": false,
     "start_time": "2023-10-21T13:44:33.441351",
     "status": "completed"
    },
    "tags": []
   },
   "outputs": [],
   "source": [
    "# Use the trained Linear Regression model to make predictions on the test data\n",
    "y_pred = model.predict(X_test)"
   ]
  },
  {
   "cell_type": "code",
   "execution_count": 13,
   "id": "a3715847",
   "metadata": {
    "execution": {
     "iopub.execute_input": "2023-10-21T13:44:33.472756Z",
     "iopub.status.busy": "2023-10-21T13:44:33.472400Z",
     "iopub.status.idle": "2023-10-21T13:44:33.911749Z",
     "shell.execute_reply": "2023-10-21T13:44:33.910513Z"
    },
    "papermill": {
     "duration": 0.449678,
     "end_time": "2023-10-21T13:44:33.914046",
     "exception": false,
     "start_time": "2023-10-21T13:44:33.464368",
     "status": "completed"
    },
    "tags": []
   },
   "outputs": [
    {
     "data": {
      "text/plain": [
       "Text(0.5, 1.0, 'Actual vs Predicted Marks')"
      ]
     },
     "execution_count": 13,
     "metadata": {},
     "output_type": "execute_result"
    },
    {
     "data": {
      "image/png": "[encoded data removed]",
      "text/plain": [
       "<Figure size 1200x600 with 1 Axes>"
      ]
     },
     "metadata": {},
     "output_type": "display_data"
    }
   ],
   "source": [
    "# Create a scatterplot of the test data points and the regression line\n",
    "plt.figure(figsize=(12, 6))             # Set the figure size\n",
    "sns.set_style(\"dark\")                   # Set the plot style using Seaborn\n",
    "plt.scatter(X_test, y_test, color='red')  # Plot the test data points in red\n",
    "plt.plot(X_test, y_pred)                # Plot the regression line using the model's predictions\n",
    "plt.xlabel(\"Number of Study Hours\")     # Set the x-axis label\n",
    "plt.ylabel(\"Marks of the Student\")      # Set the y-axis label\n",
    "plt.title(\"Actual vs Predicted Marks\")  # Set the title"
   ]
  },
  {
   "cell_type": "code",
   "execution_count": 14,
   "id": "0fa305d8",
   "metadata": {
    "execution": {
     "iopub.execute_input": "2023-10-21T13:44:33.932117Z",
     "iopub.status.busy": "2023-10-21T13:44:33.931479Z",
     "iopub.status.idle": "2023-10-21T13:44:33.945840Z",
     "shell.execute_reply": "2023-10-21T13:44:33.944686Z"
    },
    "papermill": {
     "duration": 0.026486,
     "end_time": "2023-10-21T13:44:33.948520",
     "exception": false,
     "start_time": "2023-10-21T13:44:33.922034",
     "status": "completed"
    },
    "tags": []
   },
   "outputs": [],
   "source": [
    "# Calculate and print evaluation metrics for the model's performance on the test data\n",
    "acc = model.score(X_test, y_test)           # Calculate the accuracy\n",
    "mae = mean_absolute_error(y_test, y_pred)   # Calculate the Mean Absolute Error\n",
    "mse = mean_squared_error(y_test, y_pred)    # Calculate the Mean Squared Error\n",
    "rmse = np.sqrt(mse)                         # Calculate the Root Mean Squared Error\n",
    "r2 = r2_score(y_test, y_pred)               # Calculate the R-squared score"
   ]
  },
  {
   "cell_type": "code",
   "execution_count": 15,
   "id": "60b4f3cb",
   "metadata": {},
   "outputs": [
    {
     "name": "stdout",
     "output_type": "stream",
     "text": [
      "Accuracy:  97.09\n",
      "MAE:       3.37\n",
      "MSE:       17.01\n",
      "RMSE:      4.12\n",
      "R2 score:  0.97\n"
     ]
    }
   ],
   "source": [
    "# Print the evaluation metrics\n",
    "print(\"Accuracy: \", round(acc * 100, 2))    # Print accuracy as a percentage\n",
    "print(\"MAE:      \", round(mae, 2))          # Print Mean Absolute Error\n",
    "print(\"MSE:      \", round(mse, 2))          # Print Mean Squared Error\n",
    "print(\"RMSE:     \", round(rmse, 2))         # Print Root Mean Squared Error\n",
    "print(\"R2 score: \", round(r2, 2))           # Print R-squared score"
   ]
  },
  {
   "cell_type": "markdown",
   "id": "d2caf1ed",
   "metadata": {
    "papermill": {
     "duration": 0.007614,
     "end_time": "2023-10-21T13:44:33.964075",
     "exception": false,
     "start_time": "2023-10-21T13:44:33.956461",
     "status": "completed"
    },
    "tags": []
   },
   "source": [
    "# Prediction"
   ]
  },
  {
   "cell_type": "code",
   "execution_count": 16,
   "id": "a86f5b93",
   "metadata": {
    "execution": {
     "iopub.execute_input": "2023-10-21T13:44:33.981518Z",
     "iopub.status.busy": "2023-10-21T13:44:33.981122Z",
     "iopub.status.idle": "2023-10-21T13:44:33.986464Z",
     "shell.execute_reply": "2023-10-21T13:44:33.985429Z"
    },
    "papermill": {
     "duration": 0.017047,
     "end_time": "2023-10-21T13:44:33.988974",
     "exception": false,
     "start_time": "2023-10-21T13:44:33.971927",
     "status": "completed"
    },
    "tags": []
   },
   "outputs": [
    {
     "name": "stdout",
     "output_type": "stream",
     "text": [
      "Marks of a student who studied 9 hours a day:  [[90.96128129]]\n"
     ]
    },
    {
     "name": "stderr",
     "output_type": "stream",
     "text": [
      "c:\\System\\Downloads\\Anaconda\\Anaconda\\Lib\\site-packages\\sklearn\\base.py:439: UserWarning: X does not have valid feature names, but LinearRegression was fitted with feature names\n",
      "  warnings.warn(\n"
     ]
    }
   ],
   "source": [
    "predicted_marks = model.predict([[9]])\n",
    "print(\"Marks of a student who studied 9 hours a day: \", predicted_marks)\n"
   ]
  }
 ],
 "metadata": {
  "kernelspec": {
   "display_name": "Python 3",
   "language": "python",
   "name": "python3"
  },
  "language_info": {
   "codemirror_mode": {
    "name": "ipython",
    "version": 3
   },
   "file_extension": ".py",
   "mimetype": "text/x-python",
   "name": "python",
   "nbconvert_exporter": "python",
   "pygments_lexer": "ipython3",
   "version": "3.11.7"
  },
  "papermill": {
   "default_parameters": {},
   "duration": 7.641696,
   "end_time": "2023-10-21T13:44:34.617883",
   "environment_variables": {},
   "exception": null,
   "input_path": "__notebook__.ipynb",
   "output_path": "__notebook__.ipynb",
   "parameters": {},
   "start_time": "2023-10-21T13:44:26.976187",
   "version": "2.4.0"
  }
 },
 "nbformat": 4,
 "nbformat_minor": 5
}
